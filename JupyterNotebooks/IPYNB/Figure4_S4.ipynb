{
 "cells": [
  {
   "cell_type": "code",
   "execution_count": 1,
   "metadata": {},
   "outputs": [
    {
     "name": "stderr",
     "output_type": "stream",
     "text": [
      "/opt/anaconda3/lib/python3.7/site-packages/numba/np/ufunc/parallel.py:363: NumbaWarning: \u001b[1mThe TBB threading layer requires TBB version 2019.5 or later i.e., TBB_INTERFACE_VERSION >= 11005. Found TBB_INTERFACE_VERSION = 11000. The TBB threading layer is disabled.\u001b[0m\n",
      "  warnings.warn(problem)\n",
      "/opt/anaconda3/lib/python3.7/site-packages/statsmodels/tools/_testing.py:19: FutureWarning: pandas.util.testing is deprecated. Use the functions in the public API at pandas.testing instead.\n",
      "  import pandas.util.testing as tm\n"
     ]
    }
   ],
   "source": [
    "import numpy as np\n",
    "import pandas as pd\n",
    "import loompy\n",
    "import velocyto as vcy\n",
    "import matplotlib.pyplot as plt\n",
    "import matplotlib as mpl\n",
    "import copy\n",
    "import igraph as ig\n",
    "import louvain\n",
    "import umap\n",
    "import networkx\n",
    "import community\n",
    "import pandas as pd\n",
    "import scanpy as sc\n",
    "import seaborn as sns\n",
    "from collections import Counter\n",
    "from sklearn.neighbors import NearestNeighbors"
   ]
  },
  {
   "cell_type": "code",
   "execution_count": 2,
   "metadata": {},
   "outputs": [],
   "source": [
    "plt.rcParams[\"pdf.fonttype\"] = 42"
   ]
  },
  {
   "cell_type": "code",
   "execution_count": 3,
   "metadata": {},
   "outputs": [],
   "source": [
    "from sklearn.svm import SVR\n",
    "import numpy as np\n",
    "import matplotlib.pyplot as plt\n",
    "\n",
    "\n",
    "def filter_cv_vs_mean(S: np.ndarray, N: int, svr_gamma: float=None, plot: bool=True, min_expr_cells: int=2,\n",
    "                      max_expr_avg: float=20, min_expr_avg: float=0) -> np.ndarray:\n",
    "    muS = S.mean(1)\n",
    "    detected_bool = ((S > 0).sum(1) > min_expr_cells) & (muS < max_expr_avg) & (muS > min_expr_avg)\n",
    "    \n",
    "    Sf = S[detected_bool, :]\n",
    "    mu = Sf.mean(1)\n",
    "    sigma = Sf.std(1, ddof=1)\n",
    "\n",
    "    cv = sigma / mu\n",
    "    log_m = np.log2(mu)\n",
    "    log_cv = np.log2(cv)\n",
    "    \n",
    "    if svr_gamma is None:\n",
    "        svr_gamma = 150. / len(mu)\n",
    "    \n",
    "    svr = SVR(gamma=svr_gamma)\n",
    "    svr.fit(log_m[:, None], log_cv)\n",
    "    fitted_fun = svr.predict\n",
    "    ff = fitted_fun(log_m[:, None])\n",
    "    score = log_cv - ff\n",
    "\n",
    "    xnew = np.linspace(np.min(log_m), np.max(log_m))\n",
    "    ynew = svr.predict(xnew[:, None])\n",
    "\n",
    "    nth_score = np.sort(score)[::-1][N]\n",
    "    \n",
    "    if plot:\n",
    "        plt.scatter(log_m[score > nth_score], log_cv[score > nth_score], s=3, alpha=0.4, c=\"tab:red\")\n",
    "        plt.scatter(log_m[score <= nth_score], log_cv[score <= nth_score], s=3, alpha=0.4, c=\"tab:blue\")\n",
    "        mu_linspace = np.linspace(np.min(log_m), np.max(log_m))\n",
    "        plt.plot(mu_linspace, fitted_fun(mu_linspace[:, None]), c=\"k\")\n",
    "        plt.xlabel(\"log2 mean S\")\n",
    "        plt.ylabel(\"log2 CV S\")\n",
    "    \n",
    "    cv_mean_score = np.zeros(detected_bool.shape)\n",
    "    cv_mean_score[~detected_bool] = np.min(score) - 1e-16\n",
    "    cv_mean_score[detected_bool] = score\n",
    "    cv_mean_selected = cv_mean_score >= nth_score\n",
    "    return cv_mean_selected"
   ]
  },
  {
   "cell_type": "code",
   "execution_count": 4,
   "metadata": {},
   "outputs": [],
   "source": [
    "from miscalg import *"
   ]
  },
  {
   "cell_type": "code",
   "execution_count": 5,
   "metadata": {},
   "outputs": [],
   "source": [
    "vlm = vcy.VelocytoLoom(\"hESC-RPE_invitro_differentiation.loom\")"
   ]
  },
  {
   "cell_type": "markdown",
   "metadata": {},
   "source": [
    "## Look at anticorrelated genes to retinal progenitor signature"
   ]
  },
  {
   "cell_type": "code",
   "execution_count": 6,
   "metadata": {},
   "outputs": [],
   "source": [
    "D30_filt = copy.deepcopy(vlm)\n",
    "D30_filt.filter_cells(bool_array=np.array([i in ['D30:CrNeCr',\n",
    " 'D30:RetProg3'] for i in D30_filt.ca[\"CellTypeCategory2\"]]))"
   ]
  },
  {
   "cell_type": "code",
   "execution_count": 7,
   "metadata": {},
   "outputs": [],
   "source": [
    "D30_filt._normalize_S(relative_size=D30_filt.initial_cell_size,\n",
    "                      target_size=np.mean(D30_filt.initial_cell_size))\n",
    "\n",
    "D30_filt._normalize_U(relative_size=D30_filt.initial_Ucell_size,\n",
    "                      target_size=np.mean(D30_filt.initial_Ucell_size))\n",
    "\n",
    "D30_filt.perform_PCA()\n",
    "\n",
    "df30 = pd.DataFrame(D30_filt.S_norm)\n",
    "df30.columns = D30_filt.ca[\"CellID\"]\n",
    "df30.index = D30_filt.ra[\"Gene\"]\n",
    "\n",
    "df30S = pd.DataFrame(D30_filt.S_norm)\n",
    "df30S.columns = D30_filt.ca[\"CellID\"]\n",
    "df30S.index = D30_filt.ra[\"Gene\"]\n",
    "\n",
    "df30U = pd.DataFrame(D30_filt.U_norm)\n",
    "df30U.columns = D30_filt.ca[\"CellID\"]\n",
    "df30U.index = D30_filt.ra[\"Gene\"]"
   ]
  },
  {
   "cell_type": "code",
   "execution_count": 8,
   "metadata": {},
   "outputs": [],
   "source": [
    "neural_sig_genes = ['WNT6', 'COL17A1', 'CDH1', 'TP63', 'KRT19', 'KRT17', \n",
    "                    'CRABP2', 'COL3A1', 'CYP26A1', 'FOXC1', 'HAND1', \n",
    "                    'SEMA3D', 'SOX17', 'DLX2', 'DLX3', 'DLX4', 'PDGFRA']"
   ]
  },
  {
   "cell_type": "code",
   "execution_count": 9,
   "metadata": {},
   "outputs": [],
   "source": [
    "df = df30S.loc[neural_sig_genes].T\n",
    "df = (df-df.min())/(df.max()-df.min())\n",
    "df = df.T\n",
    "\n",
    "neural_gene_means = np.array(df.mean(0))\n",
    "\n",
    "corr_list_neural = {k:None for k in df30S.index}\n",
    "for i,r in df30S.iterrows():\n",
    "    if np.mean(r) < 0.5:\n",
    "        corr_list_neural[i]= 0\n",
    "    else:\n",
    "        counts = list(r)\n",
    "        corr_list_neural[i] = np.corrcoef(df30S.loc[i], neural_gene_means)[0, 1]"
   ]
  },
  {
   "cell_type": "code",
   "execution_count": 10,
   "metadata": {},
   "outputs": [],
   "source": [
    "corr_list_neural = pd.DataFrame(corr_list_neural.items())\n",
    "corr_list_neural.set_index(0, inplace=True)\n",
    "corr_list_neural.sort_values(1, ascending=False, inplace=True)\n",
    "corr_list_neural = corr_list_neural[corr_list_neural[1]!=0]"
   ]
  },
  {
   "cell_type": "code",
   "execution_count": 11,
   "metadata": {},
   "outputs": [],
   "source": [
    "corr_list_neural = corr_list_neural[~corr_list_neural.index.isin(neural_sig_genes)]"
   ]
  },
  {
   "cell_type": "code",
   "execution_count": 12,
   "metadata": {
    "scrolled": false
   },
   "outputs": [
    {
     "data": {
      "text/html": [
       "<div>\n",
       "<style scoped>\n",
       "    .dataframe tbody tr th:only-of-type {\n",
       "        vertical-align: middle;\n",
       "    }\n",
       "\n",
       "    .dataframe tbody tr th {\n",
       "        vertical-align: top;\n",
       "    }\n",
       "\n",
       "    .dataframe thead th {\n",
       "        text-align: right;\n",
       "    }\n",
       "</style>\n",
       "<table border=\"1\" class=\"dataframe\">\n",
       "  <thead>\n",
       "    <tr style=\"text-align: right;\">\n",
       "      <th></th>\n",
       "      <th>1</th>\n",
       "    </tr>\n",
       "    <tr>\n",
       "      <th>0</th>\n",
       "      <th></th>\n",
       "    </tr>\n",
       "  </thead>\n",
       "  <tbody>\n",
       "    <tr>\n",
       "      <th>CCDC3</th>\n",
       "      <td>0.919493</td>\n",
       "    </tr>\n",
       "    <tr>\n",
       "      <th>CXCL14</th>\n",
       "      <td>0.884650</td>\n",
       "    </tr>\n",
       "    <tr>\n",
       "      <th>S100A10</th>\n",
       "      <td>0.883879</td>\n",
       "    </tr>\n",
       "    <tr>\n",
       "      <th>SPINT1</th>\n",
       "      <td>0.876650</td>\n",
       "    </tr>\n",
       "    <tr>\n",
       "      <th>S100A11</th>\n",
       "      <td>0.869783</td>\n",
       "    </tr>\n",
       "    <tr>\n",
       "      <th>MGAT4C</th>\n",
       "      <td>0.858345</td>\n",
       "    </tr>\n",
       "    <tr>\n",
       "      <th>TACSTD2</th>\n",
       "      <td>0.849710</td>\n",
       "    </tr>\n",
       "    <tr>\n",
       "      <th>PDLIM1</th>\n",
       "      <td>0.848887</td>\n",
       "    </tr>\n",
       "    <tr>\n",
       "      <th>PERP</th>\n",
       "      <td>0.823708</td>\n",
       "    </tr>\n",
       "    <tr>\n",
       "      <th>CTSV</th>\n",
       "      <td>0.796531</td>\n",
       "    </tr>\n",
       "    <tr>\n",
       "      <th>CLDN6</th>\n",
       "      <td>0.792389</td>\n",
       "    </tr>\n",
       "    <tr>\n",
       "      <th>BCAM</th>\n",
       "      <td>0.787449</td>\n",
       "    </tr>\n",
       "    <tr>\n",
       "      <th>PDGFA</th>\n",
       "      <td>0.782154</td>\n",
       "    </tr>\n",
       "    <tr>\n",
       "      <th>DSP</th>\n",
       "      <td>0.775993</td>\n",
       "    </tr>\n",
       "    <tr>\n",
       "      <th>SYTL1</th>\n",
       "      <td>0.772944</td>\n",
       "    </tr>\n",
       "    <tr>\n",
       "      <th>COL5A1</th>\n",
       "      <td>0.762464</td>\n",
       "    </tr>\n",
       "    <tr>\n",
       "      <th>PTGES</th>\n",
       "      <td>0.741063</td>\n",
       "    </tr>\n",
       "    <tr>\n",
       "      <th>HTRA1</th>\n",
       "      <td>0.729185</td>\n",
       "    </tr>\n",
       "    <tr>\n",
       "      <th>TMEM54</th>\n",
       "      <td>0.713293</td>\n",
       "    </tr>\n",
       "    <tr>\n",
       "      <th>IGFBP7</th>\n",
       "      <td>0.712233</td>\n",
       "    </tr>\n",
       "  </tbody>\n",
       "</table>\n",
       "</div>"
      ],
      "text/plain": [
       "                1\n",
       "0                \n",
       "CCDC3    0.919493\n",
       "CXCL14   0.884650\n",
       "S100A10  0.883879\n",
       "SPINT1   0.876650\n",
       "S100A11  0.869783\n",
       "MGAT4C   0.858345\n",
       "TACSTD2  0.849710\n",
       "PDLIM1   0.848887\n",
       "PERP     0.823708\n",
       "CTSV     0.796531\n",
       "CLDN6    0.792389\n",
       "BCAM     0.787449\n",
       "PDGFA    0.782154\n",
       "DSP      0.775993\n",
       "SYTL1    0.772944\n",
       "COL5A1   0.762464\n",
       "PTGES    0.741063\n",
       "HTRA1    0.729185\n",
       "TMEM54   0.713293\n",
       "IGFBP7   0.712233"
      ]
     },
     "execution_count": 12,
     "metadata": {},
     "output_type": "execute_result"
    }
   ],
   "source": [
    "corr_list_neural.head(20)"
   ]
  },
  {
   "cell_type": "code",
   "execution_count": 13,
   "metadata": {},
   "outputs": [
    {
     "data": {
      "text/html": [
       "<div>\n",
       "<style scoped>\n",
       "    .dataframe tbody tr th:only-of-type {\n",
       "        vertical-align: middle;\n",
       "    }\n",
       "\n",
       "    .dataframe tbody tr th {\n",
       "        vertical-align: top;\n",
       "    }\n",
       "\n",
       "    .dataframe thead th {\n",
       "        text-align: right;\n",
       "    }\n",
       "</style>\n",
       "<table border=\"1\" class=\"dataframe\">\n",
       "  <thead>\n",
       "    <tr style=\"text-align: right;\">\n",
       "      <th></th>\n",
       "      <th>1</th>\n",
       "    </tr>\n",
       "    <tr>\n",
       "      <th>0</th>\n",
       "      <th></th>\n",
       "    </tr>\n",
       "  </thead>\n",
       "  <tbody>\n",
       "    <tr>\n",
       "      <th>DACH1</th>\n",
       "      <td>-0.683875</td>\n",
       "    </tr>\n",
       "    <tr>\n",
       "      <th>VSX2</th>\n",
       "      <td>-0.694321</td>\n",
       "    </tr>\n",
       "    <tr>\n",
       "      <th>ZFP36L2</th>\n",
       "      <td>-0.696556</td>\n",
       "    </tr>\n",
       "    <tr>\n",
       "      <th>RBP1</th>\n",
       "      <td>-0.708819</td>\n",
       "    </tr>\n",
       "    <tr>\n",
       "      <th>LHX2</th>\n",
       "      <td>-0.711901</td>\n",
       "    </tr>\n",
       "    <tr>\n",
       "      <th>DAPL1</th>\n",
       "      <td>-0.718375</td>\n",
       "    </tr>\n",
       "    <tr>\n",
       "      <th>COL9A1</th>\n",
       "      <td>-0.730509</td>\n",
       "    </tr>\n",
       "    <tr>\n",
       "      <th>CENPV</th>\n",
       "      <td>-0.734388</td>\n",
       "    </tr>\n",
       "    <tr>\n",
       "      <th>RAB31</th>\n",
       "      <td>-0.735576</td>\n",
       "    </tr>\n",
       "    <tr>\n",
       "      <th>TMSB15A</th>\n",
       "      <td>-0.736937</td>\n",
       "    </tr>\n",
       "    <tr>\n",
       "      <th>MEST</th>\n",
       "      <td>-0.739148</td>\n",
       "    </tr>\n",
       "    <tr>\n",
       "      <th>COL2A1</th>\n",
       "      <td>-0.739840</td>\n",
       "    </tr>\n",
       "    <tr>\n",
       "      <th>CDH2</th>\n",
       "      <td>-0.745424</td>\n",
       "    </tr>\n",
       "    <tr>\n",
       "      <th>GPM6A</th>\n",
       "      <td>-0.752560</td>\n",
       "    </tr>\n",
       "    <tr>\n",
       "      <th>RAX</th>\n",
       "      <td>-0.764162</td>\n",
       "    </tr>\n",
       "    <tr>\n",
       "      <th>NR2F1</th>\n",
       "      <td>-0.796513</td>\n",
       "    </tr>\n",
       "    <tr>\n",
       "      <th>SFRP2</th>\n",
       "      <td>-0.810097</td>\n",
       "    </tr>\n",
       "    <tr>\n",
       "      <th>MARCKS</th>\n",
       "      <td>-0.820441</td>\n",
       "    </tr>\n",
       "    <tr>\n",
       "      <th>CRABP1</th>\n",
       "      <td>-0.822882</td>\n",
       "    </tr>\n",
       "    <tr>\n",
       "      <th>SIX6</th>\n",
       "      <td>-0.823173</td>\n",
       "    </tr>\n",
       "  </tbody>\n",
       "</table>\n",
       "</div>"
      ],
      "text/plain": [
       "                1\n",
       "0                \n",
       "DACH1   -0.683875\n",
       "VSX2    -0.694321\n",
       "ZFP36L2 -0.696556\n",
       "RBP1    -0.708819\n",
       "LHX2    -0.711901\n",
       "DAPL1   -0.718375\n",
       "COL9A1  -0.730509\n",
       "CENPV   -0.734388\n",
       "RAB31   -0.735576\n",
       "TMSB15A -0.736937\n",
       "MEST    -0.739148\n",
       "COL2A1  -0.739840\n",
       "CDH2    -0.745424\n",
       "GPM6A   -0.752560\n",
       "RAX     -0.764162\n",
       "NR2F1   -0.796513\n",
       "SFRP2   -0.810097\n",
       "MARCKS  -0.820441\n",
       "CRABP1  -0.822882\n",
       "SIX6    -0.823173"
      ]
     },
     "execution_count": 13,
     "metadata": {},
     "output_type": "execute_result"
    }
   ],
   "source": [
    "corr_list_neural.tail(20)"
   ]
  },
  {
   "cell_type": "code",
   "execution_count": 14,
   "metadata": {},
   "outputs": [
    {
     "data": {
      "text/plain": [
       "4652"
      ]
     },
     "execution_count": 14,
     "metadata": {},
     "output_type": "execute_result"
    }
   ],
   "source": [
    "len(corr_list_neural)"
   ]
  },
  {
   "cell_type": "code",
   "execution_count": 15,
   "metadata": {},
   "outputs": [
    {
     "data": {
      "text/plain": [
       "42"
      ]
     },
     "execution_count": 15,
     "metadata": {},
     "output_type": "execute_result"
    }
   ],
   "source": [
    "# position of NCAM1\n",
    "len(corr_list_neural)-np.where(np.array(corr_list_neural.index==\"NCAM1\"))[0][0]"
   ]
  },
  {
   "cell_type": "code",
   "execution_count": 16,
   "metadata": {},
   "outputs": [
    {
     "data": {
      "image/png": "[encoded data removed]",
      "text/plain": [
       "<Figure size 576x288 with 1 Axes>"
      ]
     },
     "metadata": {
      "needs_background": "light"
     },
     "output_type": "display_data"
    }
   ],
   "source": [
    "plt.figure(None, (8, 4))\n",
    "plt.bar(x=range(0, len(corr_list_neural)), height=corr_list_neural.head(len(corr_list_neural))[1], width=0.5)\n",
    "plt.title(\"Top correlated Genes with Neural Signature\")\n",
    "plt.xlabel(\"Sorted Genes\")\n",
    "plt.ylabel(\"All correlation (Pearson's Coef)\")\n",
    "plt.tight_layout()\n",
    "plt.show()"
   ]
  },
  {
   "cell_type": "code",
   "execution_count": 17,
   "metadata": {},
   "outputs": [
    {
     "data": {
      "text/plain": [
       "4652"
      ]
     },
     "execution_count": 17,
     "metadata": {},
     "output_type": "execute_result"
    }
   ],
   "source": [
    "len(corr_list_neural)"
   ]
  },
  {
   "cell_type": "code",
   "execution_count": 18,
   "metadata": {},
   "outputs": [
    {
     "data": {
      "text/plain": [
       "1   -0.561165\n",
       "Name: NCAM1, dtype: float64"
      ]
     },
     "execution_count": 18,
     "metadata": {},
     "output_type": "execute_result"
    }
   ],
   "source": [
    "corr_list_neural.loc[\"NCAM1\"]"
   ]
  },
  {
   "cell_type": "code",
   "execution_count": 19,
   "metadata": {},
   "outputs": [],
   "source": [
    "D30_filt = copy.deepcopy(vlm)\n",
    "D30_filt.filter_cells(bool_array=np.array([i in ['D30:EarlyRPE1', 'D30:EarlyRPE2', 'D30:MidRPE1',\n",
    "                                                 'D30:MidRPE2', 'D30:LateRPE', \n",
    "                                                 'D30:RetProg3'] for i in D30_filt.ca[\"CellTypeCategory2\"]]))"
   ]
  },
  {
   "cell_type": "code",
   "execution_count": 20,
   "metadata": {},
   "outputs": [],
   "source": [
    "D30_filt._normalize_S(relative_size=D30_filt.initial_cell_size,\n",
    "                      target_size=np.mean(D30_filt.initial_cell_size))\n",
    "\n",
    "D30_filt._normalize_U(relative_size=D30_filt.initial_Ucell_size,\n",
    "                      target_size=np.mean(D30_filt.initial_Ucell_size))\n",
    "\n",
    "D30_filt.perform_PCA()\n",
    "\n",
    "df30 = pd.DataFrame(D30_filt.S_norm)\n",
    "df30.columns = D30_filt.ca[\"CellID\"]\n",
    "df30.index = D30_filt.ra[\"Gene\"]\n",
    "\n",
    "df30S = pd.DataFrame(D30_filt.S_norm)\n",
    "df30S.columns = D30_filt.ca[\"CellID\"]\n",
    "df30S.index = D30_filt.ra[\"Gene\"]\n",
    "\n",
    "df30U = pd.DataFrame(D30_filt.U_norm)\n",
    "df30U.columns = D30_filt.ca[\"CellID\"]\n",
    "df30U.index = D30_filt.ra[\"Gene\"]"
   ]
  },
  {
   "cell_type": "code",
   "execution_count": 21,
   "metadata": {},
   "outputs": [],
   "source": [
    "RPE_sig_genes = [\"BEST1\", \"ELN\", \"IGFBP5\", \"MITF\", \"PMEL\", \"RGR\",\n",
    "                 \"RLBP1\", \"RPE65\", \"SERPINF1\", \"SLC7A8\", \"TMEFF2\", \n",
    "                 \"TRPM1\", \"TRPM3\", \"TTR\", \"TYR\", \"TYRP1\"]"
   ]
  },
  {
   "cell_type": "code",
   "execution_count": 22,
   "metadata": {},
   "outputs": [],
   "source": [
    "df = df30S.loc[RPE_sig_genes].T\n",
    "df = (df-df.min())/(df.max()-df.min())\n",
    "df = df.T\n",
    "\n",
    "rpe_gene_means = np.array(df.mean(0))\n",
    "\n",
    "corr_list_rpe = {k:None for k in df30S.index}\n",
    "for i,r in df30S.iterrows():\n",
    "    if np.mean(r) < 0.5:\n",
    "        corr_list_rpe[i]= 0\n",
    "    else:\n",
    "        counts = list(r)\n",
    "        corr_list_rpe[i] = np.corrcoef(df30S.loc[i], rpe_gene_means)[0, 1]"
   ]
  },
  {
   "cell_type": "code",
   "execution_count": 23,
   "metadata": {},
   "outputs": [],
   "source": [
    "corr_list_rpe = pd.DataFrame(corr_list_rpe.items())\n",
    "corr_list_rpe.set_index(0, inplace=True)\n",
    "corr_list_rpe.sort_values(1, ascending=False, inplace=True)\n",
    "corr_list_rpe = corr_list_rpe[corr_list_rpe[1]!=0]"
   ]
  },
  {
   "cell_type": "code",
   "execution_count": 24,
   "metadata": {},
   "outputs": [],
   "source": [
    "corr_list_rpe = corr_list_rpe[~corr_list_rpe.index.isin(RPE_sig_genes)]"
   ]
  },
  {
   "cell_type": "code",
   "execution_count": 25,
   "metadata": {
    "scrolled": false
   },
   "outputs": [
    {
     "data": {
      "text/html": [
       "<div>\n",
       "<style scoped>\n",
       "    .dataframe tbody tr th:only-of-type {\n",
       "        vertical-align: middle;\n",
       "    }\n",
       "\n",
       "    .dataframe tbody tr th {\n",
       "        vertical-align: top;\n",
       "    }\n",
       "\n",
       "    .dataframe thead th {\n",
       "        text-align: right;\n",
       "    }\n",
       "</style>\n",
       "<table border=\"1\" class=\"dataframe\">\n",
       "  <thead>\n",
       "    <tr style=\"text-align: right;\">\n",
       "      <th></th>\n",
       "      <th>1</th>\n",
       "    </tr>\n",
       "    <tr>\n",
       "      <th>0</th>\n",
       "      <th></th>\n",
       "    </tr>\n",
       "  </thead>\n",
       "  <tbody>\n",
       "    <tr>\n",
       "      <th>TSPAN10</th>\n",
       "      <td>0.845587</td>\n",
       "    </tr>\n",
       "    <tr>\n",
       "      <th>DCT</th>\n",
       "      <td>0.842034</td>\n",
       "    </tr>\n",
       "    <tr>\n",
       "      <th>APOE</th>\n",
       "      <td>0.781621</td>\n",
       "    </tr>\n",
       "    <tr>\n",
       "      <th>GSTP1</th>\n",
       "      <td>0.781484</td>\n",
       "    </tr>\n",
       "    <tr>\n",
       "      <th>APOC1</th>\n",
       "      <td>0.753224</td>\n",
       "    </tr>\n",
       "    <tr>\n",
       "      <th>GPR143</th>\n",
       "      <td>0.732418</td>\n",
       "    </tr>\n",
       "    <tr>\n",
       "      <th>CTSH</th>\n",
       "      <td>0.729625</td>\n",
       "    </tr>\n",
       "    <tr>\n",
       "      <th>GNG11</th>\n",
       "      <td>0.707988</td>\n",
       "    </tr>\n",
       "    <tr>\n",
       "      <th>ATP1B1</th>\n",
       "      <td>0.703754</td>\n",
       "    </tr>\n",
       "    <tr>\n",
       "      <th>SLC6A15</th>\n",
       "      <td>0.679915</td>\n",
       "    </tr>\n",
       "    <tr>\n",
       "      <th>IGFBP7</th>\n",
       "      <td>0.655671</td>\n",
       "    </tr>\n",
       "    <tr>\n",
       "      <th>GNB3</th>\n",
       "      <td>0.654464</td>\n",
       "    </tr>\n",
       "    <tr>\n",
       "      <th>TPRN</th>\n",
       "      <td>0.649086</td>\n",
       "    </tr>\n",
       "    <tr>\n",
       "      <th>GPNMB</th>\n",
       "      <td>0.643093</td>\n",
       "    </tr>\n",
       "    <tr>\n",
       "      <th>MLANA</th>\n",
       "      <td>0.637688</td>\n",
       "    </tr>\n",
       "    <tr>\n",
       "      <th>TFPI2</th>\n",
       "      <td>0.630079</td>\n",
       "    </tr>\n",
       "    <tr>\n",
       "      <th>SPATS2L</th>\n",
       "      <td>0.622501</td>\n",
       "    </tr>\n",
       "    <tr>\n",
       "      <th>TIMP3</th>\n",
       "      <td>0.618423</td>\n",
       "    </tr>\n",
       "    <tr>\n",
       "      <th>PLA2G16</th>\n",
       "      <td>0.607744</td>\n",
       "    </tr>\n",
       "    <tr>\n",
       "      <th>OTX2</th>\n",
       "      <td>0.600708</td>\n",
       "    </tr>\n",
       "    <tr>\n",
       "      <th>BACE2</th>\n",
       "      <td>0.594648</td>\n",
       "    </tr>\n",
       "    <tr>\n",
       "      <th>SLC45A2</th>\n",
       "      <td>0.585787</td>\n",
       "    </tr>\n",
       "    <tr>\n",
       "      <th>MYRF</th>\n",
       "      <td>0.584405</td>\n",
       "    </tr>\n",
       "    <tr>\n",
       "      <th>ABHD2</th>\n",
       "      <td>0.582851</td>\n",
       "    </tr>\n",
       "    <tr>\n",
       "      <th>ADAM28</th>\n",
       "      <td>0.578963</td>\n",
       "    </tr>\n",
       "  </tbody>\n",
       "</table>\n",
       "</div>"
      ],
      "text/plain": [
       "                1\n",
       "0                \n",
       "TSPAN10  0.845587\n",
       "DCT      0.842034\n",
       "APOE     0.781621\n",
       "GSTP1    0.781484\n",
       "APOC1    0.753224\n",
       "GPR143   0.732418\n",
       "CTSH     0.729625\n",
       "GNG11    0.707988\n",
       "ATP1B1   0.703754\n",
       "SLC6A15  0.679915\n",
       "IGFBP7   0.655671\n",
       "GNB3     0.654464\n",
       "TPRN     0.649086\n",
       "GPNMB    0.643093\n",
       "MLANA    0.637688\n",
       "TFPI2    0.630079\n",
       "SPATS2L  0.622501\n",
       "TIMP3    0.618423\n",
       "PLA2G16  0.607744\n",
       "OTX2     0.600708\n",
       "BACE2    0.594648\n",
       "SLC45A2  0.585787\n",
       "MYRF     0.584405\n",
       "ABHD2    0.582851\n",
       "ADAM28   0.578963"
      ]
     },
     "execution_count": 25,
     "metadata": {},
     "output_type": "execute_result"
    }
   ],
   "source": [
    "corr_list_rpe.head(25)"
   ]
  },
  {
   "cell_type": "code",
   "execution_count": 26,
   "metadata": {},
   "outputs": [
    {
     "data": {
      "text/html": [
       "<div>\n",
       "<style scoped>\n",
       "    .dataframe tbody tr th:only-of-type {\n",
       "        vertical-align: middle;\n",
       "    }\n",
       "\n",
       "    .dataframe tbody tr th {\n",
       "        vertical-align: top;\n",
       "    }\n",
       "\n",
       "    .dataframe thead th {\n",
       "        text-align: right;\n",
       "    }\n",
       "</style>\n",
       "<table border=\"1\" class=\"dataframe\">\n",
       "  <thead>\n",
       "    <tr style=\"text-align: right;\">\n",
       "      <th></th>\n",
       "      <th>1</th>\n",
       "    </tr>\n",
       "    <tr>\n",
       "      <th>0</th>\n",
       "      <th></th>\n",
       "    </tr>\n",
       "  </thead>\n",
       "  <tbody>\n",
       "    <tr>\n",
       "      <th>DACH1</th>\n",
       "      <td>-0.422209</td>\n",
       "    </tr>\n",
       "    <tr>\n",
       "      <th>SELENOP</th>\n",
       "      <td>-0.446712</td>\n",
       "    </tr>\n",
       "    <tr>\n",
       "      <th>ALDH1A1</th>\n",
       "      <td>-0.451501</td>\n",
       "    </tr>\n",
       "    <tr>\n",
       "      <th>PTMA</th>\n",
       "      <td>-0.455414</td>\n",
       "    </tr>\n",
       "    <tr>\n",
       "      <th>NCAM1</th>\n",
       "      <td>-0.457120</td>\n",
       "    </tr>\n",
       "    <tr>\n",
       "      <th>SIX3</th>\n",
       "      <td>-0.458977</td>\n",
       "    </tr>\n",
       "    <tr>\n",
       "      <th>CPE</th>\n",
       "      <td>-0.466412</td>\n",
       "    </tr>\n",
       "    <tr>\n",
       "      <th>TGFB2</th>\n",
       "      <td>-0.471332</td>\n",
       "    </tr>\n",
       "    <tr>\n",
       "      <th>NR2F1</th>\n",
       "      <td>-0.478010</td>\n",
       "    </tr>\n",
       "    <tr>\n",
       "      <th>CDH2</th>\n",
       "      <td>-0.478124</td>\n",
       "    </tr>\n",
       "    <tr>\n",
       "      <th>LRRC17</th>\n",
       "      <td>-0.479032</td>\n",
       "    </tr>\n",
       "    <tr>\n",
       "      <th>RAX</th>\n",
       "      <td>-0.479341</td>\n",
       "    </tr>\n",
       "    <tr>\n",
       "      <th>CRABP1</th>\n",
       "      <td>-0.496134</td>\n",
       "    </tr>\n",
       "    <tr>\n",
       "      <th>ACKR3</th>\n",
       "      <td>-0.503343</td>\n",
       "    </tr>\n",
       "    <tr>\n",
       "      <th>MARCKS</th>\n",
       "      <td>-0.563036</td>\n",
       "    </tr>\n",
       "    <tr>\n",
       "      <th>TMSB4X</th>\n",
       "      <td>-0.567210</td>\n",
       "    </tr>\n",
       "    <tr>\n",
       "      <th>IGFBP2</th>\n",
       "      <td>-0.576539</td>\n",
       "    </tr>\n",
       "    <tr>\n",
       "      <th>DKK3</th>\n",
       "      <td>-0.579963</td>\n",
       "    </tr>\n",
       "    <tr>\n",
       "      <th>CPAMD8</th>\n",
       "      <td>-0.601790</td>\n",
       "    </tr>\n",
       "    <tr>\n",
       "      <th>SFRP2</th>\n",
       "      <td>-0.653670</td>\n",
       "    </tr>\n",
       "  </tbody>\n",
       "</table>\n",
       "</div>"
      ],
      "text/plain": [
       "                1\n",
       "0                \n",
       "DACH1   -0.422209\n",
       "SELENOP -0.446712\n",
       "ALDH1A1 -0.451501\n",
       "PTMA    -0.455414\n",
       "NCAM1   -0.457120\n",
       "SIX3    -0.458977\n",
       "CPE     -0.466412\n",
       "TGFB2   -0.471332\n",
       "NR2F1   -0.478010\n",
       "CDH2    -0.478124\n",
       "LRRC17  -0.479032\n",
       "RAX     -0.479341\n",
       "CRABP1  -0.496134\n",
       "ACKR3   -0.503343\n",
       "MARCKS  -0.563036\n",
       "TMSB4X  -0.567210\n",
       "IGFBP2  -0.576539\n",
       "DKK3    -0.579963\n",
       "CPAMD8  -0.601790\n",
       "SFRP2   -0.653670"
      ]
     },
     "execution_count": 26,
     "metadata": {},
     "output_type": "execute_result"
    }
   ],
   "source": [
    "corr_list_rpe.tail(20)"
   ]
  },
  {
   "cell_type": "code",
   "execution_count": 27,
   "metadata": {},
   "outputs": [
    {
     "data": {
      "text/plain": [
       "4851"
      ]
     },
     "execution_count": 27,
     "metadata": {},
     "output_type": "execute_result"
    }
   ],
   "source": [
    "len(corr_list_rpe)"
   ]
  },
  {
   "cell_type": "code",
   "execution_count": 28,
   "metadata": {},
   "outputs": [
    {
     "data": {
      "text/plain": [
       "16"
      ]
     },
     "execution_count": 28,
     "metadata": {},
     "output_type": "execute_result"
    }
   ],
   "source": [
    "# position of NCAM1\n",
    "len(corr_list_rpe)-np.where(np.array(corr_list_rpe.index==\"NCAM1\"))[0][0]"
   ]
  },
  {
   "cell_type": "code",
   "execution_count": 29,
   "metadata": {},
   "outputs": [
    {
     "data": {
      "image/png": "[encoded data removed]",
      "text/plain": [
       "<Figure size 576x288 with 1 Axes>"
      ]
     },
     "metadata": {
      "needs_background": "light"
     },
     "output_type": "display_data"
    }
   ],
   "source": [
    "plt.figure(None, (8, 4))\n",
    "plt.bar(x=range(0, len(corr_list_rpe)), height=corr_list_rpe.head(len(corr_list_rpe))[1], width=0.5)\n",
    "plt.title(\"Top correlated Genes with RPE Signature\")\n",
    "plt.xlabel(\"Sorted Genes\")\n",
    "plt.ylabel(\"All correlation (Pearson's Coef)\")\n",
    "plt.tight_layout()\n",
    "plt.show()"
   ]
  },
  {
   "cell_type": "code",
   "execution_count": 30,
   "metadata": {},
   "outputs": [],
   "source": [
    "combined_df = pd.merge(left=corr_list_rpe, right=corr_list_neural, right_index=True, left_index=True, how=\"inner\")"
   ]
  },
  {
   "cell_type": "code",
   "execution_count": 31,
   "metadata": {},
   "outputs": [
    {
     "data": {
      "text/plain": [
       "0\n",
       "SFRP2     -0.731883\n",
       "MARCKS    -0.691738\n",
       "CRABP1    -0.659508\n",
       "NR2F1     -0.637261\n",
       "RAX       -0.621751\n",
       "CDH2      -0.611774\n",
       "CPAMD8    -0.580578\n",
       "MEST      -0.575116\n",
       "SIX6      -0.568949\n",
       "RAB31     -0.566752\n",
       "DACH1     -0.553042\n",
       "TMSB15A   -0.552663\n",
       "COL2A1    -0.533734\n",
       "MAB21L1   -0.530335\n",
       "NAP1L1    -0.523088\n",
       "DAPL1     -0.522136\n",
       "TUBA1B    -0.519299\n",
       "CENPV     -0.514487\n",
       "NCAM1     -0.509143\n",
       "PKDCC     -0.488252\n",
       "dtype: float64"
      ]
     },
     "execution_count": 31,
     "metadata": {},
     "output_type": "execute_result"
    }
   ],
   "source": [
    "# top anticorrelated\n",
    "np.mean(combined_df, axis=1).sort_values().head(20)"
   ]
  },
  {
   "cell_type": "code",
   "execution_count": 32,
   "metadata": {},
   "outputs": [
    {
     "data": {
      "text/plain": [
       "0\n",
       "SH3BP5     0.447943\n",
       "S100A11    0.453707\n",
       "ATP1B1     0.462019\n",
       "PERP       0.462936\n",
       "SLC3A2     0.474278\n",
       "ITGAV      0.487447\n",
       "GSTP1      0.488418\n",
       "GSN        0.496995\n",
       "SPARC      0.507732\n",
       "OSBPL1A    0.515013\n",
       "CTSV       0.528249\n",
       "APP        0.543228\n",
       "HTRA1      0.545491\n",
       "APOE       0.573551\n",
       "CTSH       0.577900\n",
       "CRYAB      0.579826\n",
       "SPATS2L    0.626606\n",
       "GPNMB      0.629784\n",
       "CXCL14     0.677878\n",
       "IGFBP7     0.683952\n",
       "dtype: float64"
      ]
     },
     "execution_count": 32,
     "metadata": {},
     "output_type": "execute_result"
    }
   ],
   "source": [
    "# top correlated\n",
    "np.mean(combined_df, axis=1).sort_values().tail(20)"
   ]
  },
  {
   "cell_type": "code",
   "execution_count": 33,
   "metadata": {},
   "outputs": [
    {
     "data": {
      "image/png": "[encoded data removed]",
      "text/plain": [
       "<Figure size 576x288 with 1 Axes>"
      ]
     },
     "metadata": {
      "needs_background": "light"
     },
     "output_type": "display_data"
    }
   ],
   "source": [
    "plt.figure(None, (8, 4))\n",
    "plt.bar(x=range(0, 20), height=-1*np.mean(combined_df, axis=1).sort_values().head(20), width=0.75)\n",
    "plt.title(\"Genes Anticorrelated with both RPE and Neural Signatures\")\n",
    "plt.xlabel(\"Gene Rank\")\n",
    "plt.ylabel(\"Correlation Average\")\n",
    "plt.tight_layout()\n",
    "plt.show()"
   ]
  },
  {
   "cell_type": "code",
   "execution_count": 34,
   "metadata": {},
   "outputs": [
    {
     "data": {
      "text/html": [
       "<div>\n",
       "<style scoped>\n",
       "    .dataframe tbody tr th:only-of-type {\n",
       "        vertical-align: middle;\n",
       "    }\n",
       "\n",
       "    .dataframe tbody tr th {\n",
       "        vertical-align: top;\n",
       "    }\n",
       "\n",
       "    .dataframe thead th {\n",
       "        text-align: right;\n",
       "    }\n",
       "</style>\n",
       "<table border=\"1\" class=\"dataframe\">\n",
       "  <thead>\n",
       "    <tr style=\"text-align: right;\">\n",
       "      <th></th>\n",
       "      <th>1</th>\n",
       "    </tr>\n",
       "    <tr>\n",
       "      <th>0</th>\n",
       "      <th></th>\n",
       "    </tr>\n",
       "  </thead>\n",
       "  <tbody>\n",
       "    <tr>\n",
       "      <th>TSPAN10</th>\n",
       "      <td>0.845587</td>\n",
       "    </tr>\n",
       "    <tr>\n",
       "      <th>DCT</th>\n",
       "      <td>0.842034</td>\n",
       "    </tr>\n",
       "    <tr>\n",
       "      <th>APOE</th>\n",
       "      <td>0.781621</td>\n",
       "    </tr>\n",
       "    <tr>\n",
       "      <th>GSTP1</th>\n",
       "      <td>0.781484</td>\n",
       "    </tr>\n",
       "    <tr>\n",
       "      <th>APOC1</th>\n",
       "      <td>0.753224</td>\n",
       "    </tr>\n",
       "    <tr>\n",
       "      <th>...</th>\n",
       "      <td>...</td>\n",
       "    </tr>\n",
       "    <tr>\n",
       "      <th>TMSB4X</th>\n",
       "      <td>-0.567210</td>\n",
       "    </tr>\n",
       "    <tr>\n",
       "      <th>IGFBP2</th>\n",
       "      <td>-0.576539</td>\n",
       "    </tr>\n",
       "    <tr>\n",
       "      <th>DKK3</th>\n",
       "      <td>-0.579963</td>\n",
       "    </tr>\n",
       "    <tr>\n",
       "      <th>CPAMD8</th>\n",
       "      <td>-0.601790</td>\n",
       "    </tr>\n",
       "    <tr>\n",
       "      <th>SFRP2</th>\n",
       "      <td>-0.653670</td>\n",
       "    </tr>\n",
       "  </tbody>\n",
       "</table>\n",
       "<p>4851 rows × 1 columns</p>\n",
       "</div>"
      ],
      "text/plain": [
       "                1\n",
       "0                \n",
       "TSPAN10  0.845587\n",
       "DCT      0.842034\n",
       "APOE     0.781621\n",
       "GSTP1    0.781484\n",
       "APOC1    0.753224\n",
       "...           ...\n",
       "TMSB4X  -0.567210\n",
       "IGFBP2  -0.576539\n",
       "DKK3    -0.579963\n",
       "CPAMD8  -0.601790\n",
       "SFRP2   -0.653670\n",
       "\n",
       "[4851 rows x 1 columns]"
      ]
     },
     "execution_count": 34,
     "metadata": {},
     "output_type": "execute_result"
    }
   ],
   "source": [
    "corr_list_rpe"
   ]
  },
  {
   "cell_type": "code",
   "execution_count": 35,
   "metadata": {},
   "outputs": [
    {
     "data": {
      "text/html": [
       "<div>\n",
       "<style scoped>\n",
       "    .dataframe tbody tr th:only-of-type {\n",
       "        vertical-align: middle;\n",
       "    }\n",
       "\n",
       "    .dataframe tbody tr th {\n",
       "        vertical-align: top;\n",
       "    }\n",
       "\n",
       "    .dataframe thead th {\n",
       "        text-align: right;\n",
       "    }\n",
       "</style>\n",
       "<table border=\"1\" class=\"dataframe\">\n",
       "  <thead>\n",
       "    <tr style=\"text-align: right;\">\n",
       "      <th></th>\n",
       "      <th>1</th>\n",
       "    </tr>\n",
       "    <tr>\n",
       "      <th>0</th>\n",
       "      <th></th>\n",
       "    </tr>\n",
       "  </thead>\n",
       "  <tbody>\n",
       "    <tr>\n",
       "      <th>CCDC3</th>\n",
       "      <td>0.919493</td>\n",
       "    </tr>\n",
       "    <tr>\n",
       "      <th>CXCL14</th>\n",
       "      <td>0.884650</td>\n",
       "    </tr>\n",
       "    <tr>\n",
       "      <th>S100A10</th>\n",
       "      <td>0.883879</td>\n",
       "    </tr>\n",
       "    <tr>\n",
       "      <th>SPINT1</th>\n",
       "      <td>0.876650</td>\n",
       "    </tr>\n",
       "    <tr>\n",
       "      <th>S100A11</th>\n",
       "      <td>0.869783</td>\n",
       "    </tr>\n",
       "    <tr>\n",
       "      <th>...</th>\n",
       "      <td>...</td>\n",
       "    </tr>\n",
       "    <tr>\n",
       "      <th>NR2F1</th>\n",
       "      <td>-0.796513</td>\n",
       "    </tr>\n",
       "    <tr>\n",
       "      <th>SFRP2</th>\n",
       "      <td>-0.810097</td>\n",
       "    </tr>\n",
       "    <tr>\n",
       "      <th>MARCKS</th>\n",
       "      <td>-0.820441</td>\n",
       "    </tr>\n",
       "    <tr>\n",
       "      <th>CRABP1</th>\n",
       "      <td>-0.822882</td>\n",
       "    </tr>\n",
       "    <tr>\n",
       "      <th>SIX6</th>\n",
       "      <td>-0.823173</td>\n",
       "    </tr>\n",
       "  </tbody>\n",
       "</table>\n",
       "<p>4652 rows × 1 columns</p>\n",
       "</div>"
      ],
      "text/plain": [
       "                1\n",
       "0                \n",
       "CCDC3    0.919493\n",
       "CXCL14   0.884650\n",
       "S100A10  0.883879\n",
       "SPINT1   0.876650\n",
       "S100A11  0.869783\n",
       "...           ...\n",
       "NR2F1   -0.796513\n",
       "SFRP2   -0.810097\n",
       "MARCKS  -0.820441\n",
       "CRABP1  -0.822882\n",
       "SIX6    -0.823173\n",
       "\n",
       "[4652 rows x 1 columns]"
      ]
     },
     "execution_count": 35,
     "metadata": {},
     "output_type": "execute_result"
    }
   ],
   "source": [
    "corr_list_neural"
   ]
  },
  {
   "cell_type": "code",
   "execution_count": null,
   "metadata": {},
   "outputs": [],
   "source": []
  }
 ],
 "metadata": {
  "kernelspec": {
   "display_name": "Python 3",
   "language": "python",
   "name": "python3"
  },
  "language_info": {
   "codemirror_mode": {
    "name": "ipython",
    "version": 3
   },
   "file_extension": ".py",
   "mimetype": "text/x-python",
   "name": "python",
   "nbconvert_exporter": "python",
   "pygments_lexer": "ipython3",
   "version": "3.7.4"
  }
 },
 "nbformat": 4,
 "nbformat_minor": 2
}
